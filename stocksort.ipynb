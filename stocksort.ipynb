{
 "cells": [
  {
   "cell_type": "code",
   "execution_count": 1,
   "metadata": {},
   "outputs": [],
   "source": [
    "import pandas as pd\n",
    "import openpyxl\n",
    "import os"
   ]
  },
  {
   "cell_type": "code",
   "execution_count": 2,
   "metadata": {},
   "outputs": [],
   "source": [
    "os.getcwd()\n",
    "os.chdir(\"C:/Users/u0443/Downloads/\")"
   ]
  },
  {
   "cell_type": "code",
   "execution_count": 3,
   "metadata": {},
   "outputs": [
    {
     "data": {
      "text/plain": [
       "'C:\\\\Users\\\\u0443\\\\Downloads'"
      ]
     },
     "execution_count": 3,
     "metadata": {},
     "output_type": "execute_result"
    }
   ],
   "source": [
    "os.getcwd()"
   ]
  },
  {
   "cell_type": "code",
   "execution_count": 4,
   "metadata": {},
   "outputs": [],
   "source": [
    "#open stock.txt and read\n",
    "with open(\"C:/Users/u0443/Downloads/stockdata.txt\", \"r\") as f:\n",
    "    test = f.readlines()\n",
    "#clear space and \\n\n",
    "for i in range(0, len(test)):\n",
    "    test[i] = test[i].replace(\" \", \"\").replace(\"\\n\", \"\").split(\",\")"
   ]
  },
  {
   "cell_type": "code",
   "execution_count": 5,
   "metadata": {},
   "outputs": [],
   "source": [
    "#檢視公司代碼總數\n",
    "stock = []\n",
    "temp = sorted(test, key=lambda test: (test[0]))\n",
    "count = 0\n",
    "for i in range(1, len(temp)):\n",
    "    if(temp[i][0]!=temp[i-1][0]):\n",
    "        stock.append(temp[i][0])\n",
    "        count = count + 1"
   ]
  },
  {
   "cell_type": "code",
   "execution_count": 6,
   "metadata": {
    "scrolled": true
   },
   "outputs": [
    {
     "data": {
      "text/plain": [
       "100"
      ]
     },
     "execution_count": 6,
     "metadata": {},
     "output_type": "execute_result"
    }
   ],
   "source": [
    "len(stock)"
   ]
  },
  {
   "cell_type": "code",
   "execution_count": 7,
   "metadata": {},
   "outputs": [
    {
     "data": {
      "text/plain": [
       "100"
      ]
     },
     "execution_count": 7,
     "metadata": {},
     "output_type": "execute_result"
    }
   ],
   "source": [
    "count"
   ]
  },
  {
   "cell_type": "code",
   "execution_count": 8,
   "metadata": {},
   "outputs": [],
   "source": [
    "#對單一支股票作排序\n",
    "stockname = \"1227\"\n",
    "report = []\n",
    "for a in range(0, len(test)):\n",
    "    if(test[a][0]==stockname):\n",
    "        report.append(test[a])\n",
    "#pd.DataFrame(report)"
   ]
  },
  {
   "cell_type": "code",
   "execution_count": 9,
   "metadata": {},
   "outputs": [],
   "source": [
    "from openpyxl import load_workbook"
   ]
  },
  {
   "cell_type": "code",
   "execution_count": 10,
   "metadata": {},
   "outputs": [],
   "source": [
    "#read excel\n",
    "wb = load_workbook(filename = 'stocklist1.xlsx')\n",
    "ws = wb[\"list\"]"
   ]
  },
  {
   "cell_type": "code",
   "execution_count": 11,
   "metadata": {},
   "outputs": [],
   "source": [
    "#創造stocklist總表\n",
    "stocklist = []\n",
    "i = 2\n",
    "while (ws.cell(row= i, column= 2).value!=None):\n",
    "    stocklist.append(ws.cell(row= i, column= 2).value)\n",
    "    i = i +1\n",
    "#pd.DataFrame(stocklist)"
   ]
  },
  {
   "cell_type": "code",
   "execution_count": 16,
   "metadata": {},
   "outputs": [],
   "source": [
    "#創造100個excel檔\n",
    "from openpyxl import Workbook\n",
    "for b in (stocklist):\n",
    "    wb = Workbook()\n",
    "    ws = wb.active\n",
    "    ws1 = wb.create_sheet(\"data\")\n",
    "    wb.save(filename= \"sets\\\\\"+str(b)+\".xlsx\")"
   ]
  },
  {
   "cell_type": "code",
   "execution_count": null,
   "metadata": {},
   "outputs": [],
   "source": []
  }
 ],
 "metadata": {
  "kernelspec": {
   "display_name": "Python 3",
   "language": "python",
   "name": "python3"
  },
  "language_info": {
   "codemirror_mode": {
    "name": "ipython",
    "version": 3
   },
   "file_extension": ".py",
   "mimetype": "text/x-python",
   "name": "python",
   "nbconvert_exporter": "python",
   "pygments_lexer": "ipython3",
   "version": "3.6.4"
  }
 },
 "nbformat": 4,
 "nbformat_minor": 2
}
